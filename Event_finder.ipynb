{
  "nbformat": 4,
  "nbformat_minor": 0,
  "metadata": {
    "colab": {
      "provenance": [],
      "authorship_tag": "ABX9TyPTkSXT7oTSXiixMaEWURAl",
      "include_colab_link": true
    },
    "kernelspec": {
      "name": "python3",
      "display_name": "Python 3"
    },
    "language_info": {
      "name": "python"
    }
  },
  "cells": [
    {
      "cell_type": "markdown",
      "metadata": {
        "id": "view-in-github",
        "colab_type": "text"
      },
      "source": [
        "<a href=\"https://colab.research.google.com/github/kenechimarie/project_event/blob/main/Event_finder.ipynb\" target=\"_parent\"><img src=\"https://colab.research.google.com/assets/colab-badge.svg\" alt=\"Open In Colab\"/></a>"
      ]
    },
    {
      "cell_type": "code",
      "execution_count": 3,
      "metadata": {
        "colab": {
          "base_uri": "https://localhost:8080/"
        },
        "id": "SxXLV_GF7wqY",
        "outputId": "62707a08-b809-4ec5-c231-c6570d979e95"
      },
      "outputs": [
        {
          "output_type": "stream",
          "name": "stdout",
          "text": [
            "Enter event: techno\n",
            "😔Unavailalble: 😥We working on that\n"
          ]
        }
      ],
      "source": [
        "events = {\n",
        "    'Bouldering': 'prctice on thursdays at Boulderklub_kruezburg',\n",
        "    'Networking': 'UX meet-ups on wednesdays at Mercedes_Arena',\n",
        "    'Party': 'techno night on fridays at Tresor'\n",
        "}\n",
        "def berlin_event(search_event):\n",
        "    for place, event in events.items():\n",
        "        if search_event == place:\n",
        "            return (events[search_event])\n",
        "        else:\n",
        "            value = events.get(search_event, '😔Unavailalble: 😥We working on that')\n",
        "        return value\n",
        "search_event = input('Enter event: ')\n",
        "print(berlin_event(search_event))"
      ]
    },
    {
      "cell_type": "code",
      "source": [],
      "metadata": {
        "id": "YfHUu6F87-up"
      },
      "execution_count": 2,
      "outputs": []
    }
  ]
}